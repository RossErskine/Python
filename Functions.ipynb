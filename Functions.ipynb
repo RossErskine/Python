{
 "cells": [
  {
   "cell_type": "markdown",
   "id": "a24b4bf0",
   "metadata": {},
   "source": [
    "# Functions"
   ]
  },
  {
   "cell_type": "code",
   "execution_count": 1,
   "id": "e28aa3bc",
   "metadata": {},
   "outputs": [],
   "source": [
    "def greet_user():\t\t\t\t\t\t#function definition\n",
    "\t\"\"\" Display a simple greeting \"\"\"\t#docstring (function decription)\n",
    "\tprint(\"Hello!\")\t"
   ]
  },
  {
   "cell_type": "code",
   "execution_count": 2,
   "id": "20ac8271",
   "metadata": {},
   "outputs": [
    {
     "name": "stdout",
     "output_type": "stream",
     "text": [
      "Hello!\n"
     ]
    }
   ],
   "source": [
    "greet_user()\t\t\t\t\t\t\t#function call"
   ]
  },
  {
   "cell_type": "code",
   "execution_count": 3,
   "id": "62ef3d3c",
   "metadata": {},
   "outputs": [],
   "source": [
    "def greet_user2(username):\t\t\t\t#passing arguments\n",
    "\t\"\"\" Display a simple greeting \"\"\"\n",
    "\tprint(f\"Hello, {username.title()}!\")"
   ]
  },
  {
   "cell_type": "code",
   "execution_count": 4,
   "id": "0ae90ea5",
   "metadata": {},
   "outputs": [
    {
     "name": "stdout",
     "output_type": "stream",
     "text": [
      "Hello, Rosco!\n"
     ]
    }
   ],
   "source": [
    "greet_user2('Rosco')"
   ]
  },
  {
   "cell_type": "code",
   "execution_count": 5,
   "id": "6d85ad87",
   "metadata": {},
   "outputs": [],
   "source": [
    "def describe_pet(animal_type, pet_name):\n",
    "\t\"\"\" Display information about a pet. \"\"\"\n",
    "\tprint(f\"\\nI have a {animal_type}.\")\n",
    "\tprint(f\"My {animal_type}'s name is {pet_name.title()}.\")"
   ]
  },
  {
   "cell_type": "code",
   "execution_count": 6,
   "id": "756dd4ce",
   "metadata": {},
   "outputs": [
    {
     "name": "stdout",
     "output_type": "stream",
     "text": [
      "\n",
      "I have a dog.\n",
      "My dog's name is Ted.\n"
     ]
    }
   ],
   "source": [
    "describe_pet('dog','ted')"
   ]
  },
  {
   "cell_type": "code",
   "execution_count": 7,
   "id": "4698b551",
   "metadata": {},
   "outputs": [
    {
     "name": "stdout",
     "output_type": "stream",
     "text": [
      "\n",
      "I have a cat.\n",
      "My cat's name is Pipper.\n"
     ]
    }
   ],
   "source": [
    "describe_pet('cat', 'pipper')"
   ]
  },
  {
   "cell_type": "code",
   "execution_count": 8,
   "id": "34a345fd",
   "metadata": {},
   "outputs": [
    {
     "name": "stdout",
     "output_type": "stream",
     "text": [
      "\n",
      "I have a tortoise.\n",
      "My tortoise's name is Oscar.\n"
     ]
    }
   ],
   "source": [
    "describe_pet(pet_name='oscar', animal_type='tortoise')\t#connecting arguments"
   ]
  },
  {
   "cell_type": "code",
   "execution_count": 9,
   "id": "ae63e35f",
   "metadata": {},
   "outputs": [],
   "source": [
    "def get_formated_name(first_name, last_name):\n",
    "\t\"\"\" Return a full name, neatly formatted. \"\"\"\n",
    "\tfull_name = f\"{first_name} {last_name}\"\n",
    "\treturn full_name.title()"
   ]
  },
  {
   "cell_type": "code",
   "execution_count": 10,
   "id": "b59d48e4",
   "metadata": {},
   "outputs": [
    {
     "name": "stdout",
     "output_type": "stream",
     "text": [
      "\n",
      "Jimi Hendrix\n"
     ]
    }
   ],
   "source": [
    "musician = get_formated_name('jimi', 'hendrix')\n",
    "print(f\"\\n{musician}\")\t\t#creates new line before variable print\n"
   ]
  },
  {
   "cell_type": "code",
   "execution_count": 11,
   "id": "99640947",
   "metadata": {},
   "outputs": [],
   "source": [
    "def get_formated_name2(first_name,last_name,middle_name=''):\t# optional argument\n",
    "\t\"\"\" Return a full name neatly formated. (optional argument) \"\"\"\n",
    "\tif middle_name:\n",
    "\t\tfull_name = f\"{first_name} {middle_name} {last_name}\"\n",
    "\telse:\n",
    "\t\tfull_name = f\"{first_name} {last_name}\"\n",
    "\treturn full_name.title()"
   ]
  },
  {
   "cell_type": "code",
   "execution_count": 12,
   "id": "dfba6f08",
   "metadata": {},
   "outputs": [
    {
     "name": "stdout",
     "output_type": "stream",
     "text": [
      "Chuck Berry\n"
     ]
    }
   ],
   "source": [
    "musician = get_formated_name2('chuck','berry')\n",
    "print(musician)"
   ]
  },
  {
   "cell_type": "code",
   "execution_count": 13,
   "id": "80b38000",
   "metadata": {},
   "outputs": [
    {
     "name": "stdout",
     "output_type": "stream",
     "text": [
      "John Lee Hooker\n"
     ]
    }
   ],
   "source": [
    "musician = get_formated_name2('john', 'hooker', 'lee')\n",
    "print(musician)"
   ]
  },
  {
   "cell_type": "code",
   "execution_count": 14,
   "id": "16b9b506",
   "metadata": {},
   "outputs": [],
   "source": [
    "def build_person(first_name, last_name):\t\t\t\t\t\t#returns dictionary\n",
    "\t\"\"\" Return a dictionary of information about a person. \"\"\"\n",
    "\tperson = {'first': first_name, 'last': last_name}\n",
    "\treturn person"
   ]
  },
  {
   "cell_type": "code",
   "execution_count": 15,
   "id": "de071b3d",
   "metadata": {},
   "outputs": [
    {
     "name": "stdout",
     "output_type": "stream",
     "text": [
      "{'first': 'jimi', 'last': 'page'}\n"
     ]
    }
   ],
   "source": [
    "musician = build_person('jimi', 'page')\n",
    "print(musician)"
   ]
  },
  {
   "cell_type": "code",
   "execution_count": 16,
   "id": "2fa690ab",
   "metadata": {},
   "outputs": [],
   "source": [
    "def build_person2(first_name,last_name,age=None):\t\t\t\t#optional argument\n",
    "\t\"\"\" Return a dictionary of information about a person. \"\"\"\n",
    "\tperson = {'first': first_name, 'last': last_name}\n",
    "\tif age:\n",
    "\t\tperson['age'] = age\n",
    "\treturn person"
   ]
  },
  {
   "cell_type": "code",
   "execution_count": 17,
   "id": "0560523b",
   "metadata": {},
   "outputs": [
    {
     "name": "stdout",
     "output_type": "stream",
     "text": [
      "{'first': 'robert', 'last': 'plant', 'age': 72}\n"
     ]
    }
   ],
   "source": [
    "musician = build_person2('robert', 'plant', age=72)\n",
    "print(musician)"
   ]
  },
  {
   "cell_type": "code",
   "execution_count": 18,
   "id": "db94d408",
   "metadata": {},
   "outputs": [],
   "source": [
    "def greet_users(names):\t\t\t\t\t\t\t\t\t\t\t#func using argument type list\n",
    "\t\"\"\" Print a simple greeting to each user in the list \"\"\"\n",
    "\tfor name in names:\n",
    "\t\tmsg = f\"Hello, {name.title()}!\"\n",
    "\t\tprint(msg)"
   ]
  },
  {
   "cell_type": "code",
   "execution_count": 19,
   "id": "35db8099",
   "metadata": {},
   "outputs": [
    {
     "name": "stdout",
     "output_type": "stream",
     "text": [
      "Hello, Hannah!\n",
      "Hello, Ty!\n",
      "Hello, Margot!\n"
     ]
    }
   ],
   "source": [
    "usernames = ['hannah', 'ty', 'margot']\n",
    "greet_users(usernames)"
   ]
  },
  {
   "cell_type": "code",
   "execution_count": 20,
   "id": "0e0c2bc6",
   "metadata": {},
   "outputs": [],
   "source": [
    "def print_models(unprinted_designs,completed_models):\n",
    "\t\"\"\"simulate printing each design, until none are left \n",
    "\tmove designs to completed_models afer printing \"\"\"\n",
    "\twhile unprinted_designs:\n",
    "\t\tcurrent_design = unprinted_designs.pop()\n",
    "\t\tprint(f\"Printed model: {current_design}\")\n",
    "\t\tcompleted_models.append(current_design)\n"
   ]
  },
  {
   "cell_type": "code",
   "execution_count": 21,
   "id": "6a86ecf6",
   "metadata": {},
   "outputs": [],
   "source": [
    "def show_completed_models(completed_models):\n",
    "\t\"\"\" Show all moddels that were printed \"\"\"\n",
    "\tprint(\"\\nThe following models have been printed:\")\n",
    "\tfor completed_model in completed_models:\n",
    "\t\tprint(completed_model)"
   ]
  },
  {
   "cell_type": "code",
   "execution_count": 22,
   "id": "3acd1879",
   "metadata": {},
   "outputs": [],
   "source": [
    "unprinted_designs = ['phone case','robot pendant', 'dodecahedron']\n",
    "completed_models = []"
   ]
  },
  {
   "cell_type": "code",
   "execution_count": 23,
   "id": "47dfd243",
   "metadata": {},
   "outputs": [
    {
     "name": "stdout",
     "output_type": "stream",
     "text": [
      "Printed model: dodecahedron\n",
      "Printed model: robot pendant\n",
      "Printed model: phone case\n",
      "\n",
      "The following models have been printed:\n",
      "dodecahedron\n",
      "robot pendant\n",
      "phone case\n",
      "['phone case', 'robot pendant', 'dodecahedron']\n"
     ]
    }
   ],
   "source": [
    "print_models(unprinted_designs[:], completed_models)\t#[:] passes copy of argument\n",
    "show_completed_models(completed_models)\n",
    "print(unprinted_designs)"
   ]
  },
  {
   "cell_type": "code",
   "execution_count": 24,
   "id": "a46462e9",
   "metadata": {},
   "outputs": [],
   "source": [
    "def make_pizza(size,*toppings):\t\t\t\t\t\t\t\t# * allows more than one argument \n",
    "\t\"\"\"Print the list of toppings that have been requested. \"\"\"\n",
    "\tprint(f\"\\nMaking a {size} -inch pizza with the following toppings:\")\n",
    "\tfor topping in toppings:\n",
    "\t\tprint(f\"- {topping}\")"
   ]
  },
  {
   "cell_type": "code",
   "execution_count": 25,
   "id": "637229f1",
   "metadata": {},
   "outputs": [
    {
     "name": "stdout",
     "output_type": "stream",
     "text": [
      "\n",
      "Making a 16 -inch pizza with the following toppings:\n",
      "- pepperoni\n",
      "\n",
      "Making a 12 -inch pizza with the following toppings:\n",
      "- mushrooms\n",
      "- green peppers\n",
      "- extra cheese\n"
     ]
    }
   ],
   "source": [
    "make_pizza(16, 'pepperoni')\n",
    "make_pizza(12, 'mushrooms','green peppers', 'extra cheese')"
   ]
  },
  {
   "cell_type": "code",
   "execution_count": 26,
   "id": "75dfbcb9",
   "metadata": {},
   "outputs": [],
   "source": [
    "def build_profile(first, last, **user_info):\t\t\t\t\t\t# ** allows more than one key-value pairs \n",
    "\t\"\"\"Build a dictionary containing everything we know about a user \"\"\"\n",
    "\tuser_info['first_name'] = first\n",
    "\tuser_info['last_name'] = last\n",
    "\treturn user_info"
   ]
  },
  {
   "cell_type": "code",
   "execution_count": 27,
   "id": "83c16d4c",
   "metadata": {},
   "outputs": [
    {
     "name": "stdout",
     "output_type": "stream",
     "text": [
      "{'location': 'princeton', 'field': 'physics', 'first_name': 'albert', 'last_name': 'einstein'}\n"
     ]
    }
   ],
   "source": [
    "user_profile = build_profile('albert', 'einstein',location='princeton',field='physics')\n",
    "print(user_profile)"
   ]
  },
  {
   "cell_type": "code",
   "execution_count": null,
   "id": "4b41ff4c",
   "metadata": {},
   "outputs": [],
   "source": []
  }
 ],
 "metadata": {
  "kernelspec": {
   "display_name": "Python 3 (ipykernel)",
   "language": "python",
   "name": "python3"
  },
  "language_info": {
   "codemirror_mode": {
    "name": "ipython",
    "version": 3
   },
   "file_extension": ".py",
   "mimetype": "text/x-python",
   "name": "python",
   "nbconvert_exporter": "python",
   "pygments_lexer": "ipython3",
   "version": "3.9.12"
  }
 },
 "nbformat": 4,
 "nbformat_minor": 5
}
