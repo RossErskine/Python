{
 "cells": [
  {
   "cell_type": "markdown",
   "id": "5a915f64",
   "metadata": {},
   "source": [
    "# Dictionaries\n",
    "a dictionary are lists full of key-value pairs"
   ]
  },
  {
   "cell_type": "code",
   "execution_count": 2,
   "id": "68f91d86",
   "metadata": {},
   "outputs": [
    {
     "name": "stdout",
     "output_type": "stream",
     "text": [
      "green\n"
     ]
    }
   ],
   "source": [
    "alien_0 = {'colour': 'green', 'points': 5}\n",
    "print(alien_0['colour'])"
   ]
  },
  {
   "cell_type": "code",
   "execution_count": 3,
   "id": "dc8549c8",
   "metadata": {},
   "outputs": [
    {
     "name": "stdout",
     "output_type": "stream",
     "text": [
      "5\n"
     ]
    }
   ],
   "source": [
    "print(alien_0['points'])"
   ]
  },
  {
   "cell_type": "code",
   "execution_count": 4,
   "id": "8dbc751b",
   "metadata": {},
   "outputs": [
    {
     "name": "stdout",
     "output_type": "stream",
     "text": [
      "{'colour': 'green', 'points': 5}\n"
     ]
    }
   ],
   "source": [
    "print(alien_0)"
   ]
  },
  {
   "cell_type": "code",
   "execution_count": 6,
   "id": "42ecc1df",
   "metadata": {},
   "outputs": [
    {
     "name": "stdout",
     "output_type": "stream",
     "text": [
      "{'colour': 'green', 'points': 5, 'x_position': 0, 'y_position': 25}\n"
     ]
    }
   ],
   "source": [
    "alien_0['x_position'] = 0\t\t#adds new key-value elements\n",
    "alien_0['y_position'] = 25\n",
    "print(alien_0)"
   ]
  },
  {
   "cell_type": "code",
   "execution_count": 7,
   "id": "b8f55db3",
   "metadata": {},
   "outputs": [
    {
     "name": "stdout",
     "output_type": "stream",
     "text": [
      "{'colour': 'yellow', 'points': 5, 'x_position': 0, 'y_position': 25}\n"
     ]
    }
   ],
   "source": [
    "alien_0['colour'] = 'yellow'\t#modifies elements\n",
    "print(alien_0)"
   ]
  },
  {
   "cell_type": "code",
   "execution_count": 8,
   "id": "d1fd3d14",
   "metadata": {},
   "outputs": [
    {
     "name": "stdout",
     "output_type": "stream",
     "text": [
      "no speed value assigned!\n"
     ]
    }
   ],
   "source": [
    "speed = alien_0.get('speed', 'no speed value assigned!')\t#error handling\n",
    "print(speed)"
   ]
  },
  {
   "cell_type": "code",
   "execution_count": 9,
   "id": "3f9ad4e9",
   "metadata": {},
   "outputs": [],
   "source": [
    "user_0 = {\n",
    "\t'username': 'enfermi',\n",
    "\t'first': 'enrico',\n",
    "\t'last': 'fermi',\n",
    "\t}"
   ]
  },
  {
   "cell_type": "code",
   "execution_count": 10,
   "id": "816a1046",
   "metadata": {},
   "outputs": [
    {
     "name": "stdout",
     "output_type": "stream",
     "text": [
      "\n",
      "Key: username\n",
      "Value: enfermi\n",
      "\n",
      "Key: first\n",
      "Value: enrico\n",
      "\n",
      "Key: last\n",
      "Value: fermi\n"
     ]
    }
   ],
   "source": [
    "for key, value in user_0.items():\t\t#loops and prints contents\n",
    "\tprint(f\"\\nKey: {key}\")\n",
    "\tprint(f\"Value: {value}\")"
   ]
  },
  {
   "cell_type": "code",
   "execution_count": 11,
   "id": "1bcf9b33",
   "metadata": {},
   "outputs": [],
   "source": [
    "favourite_languages = {\n",
    "\t'jen':'python',\n",
    "\t'sarah':'c',\n",
    "\t'edward':'ruby',\n",
    "\t'phil':'python'\n",
    "\t}"
   ]
  },
  {
   "cell_type": "code",
   "execution_count": 12,
   "id": "7a580ab1",
   "metadata": {},
   "outputs": [
    {
     "name": "stdout",
     "output_type": "stream",
     "text": [
      "Jen\n",
      "Sarah\n",
      "Edward\n",
      "Phil\n"
     ]
    }
   ],
   "source": [
    "for name in favourite_languages.keys():\t\t#prints all keys\n",
    "\tprint(name.title())"
   ]
  },
  {
   "cell_type": "code",
   "execution_count": 13,
   "id": "a5eb2755",
   "metadata": {},
   "outputs": [
    {
     "name": "stdout",
     "output_type": "stream",
     "text": [
      "Python\n",
      "C\n",
      "Ruby\n",
      "Python\n"
     ]
    }
   ],
   "source": [
    "for language in favourite_languages.values():\t#prints all values\n",
    "\tprint(language.title())"
   ]
  },
  {
   "cell_type": "code",
   "execution_count": 14,
   "id": "5d15cde2",
   "metadata": {},
   "outputs": [
    {
     "name": "stdout",
     "output_type": "stream",
     "text": [
      "C\n",
      "Python\n",
      "Ruby\n"
     ]
    }
   ],
   "source": [
    "for language in set(favourite_languages.values()):\t#sets look for repatition in a set \n",
    "\tprint(language.title())"
   ]
  },
  {
   "cell_type": "markdown",
   "id": "4460681d",
   "metadata": {},
   "source": [
    "## Nesting"
   ]
  },
  {
   "cell_type": "code",
   "execution_count": 15,
   "id": "ef751924",
   "metadata": {},
   "outputs": [
    {
     "name": "stdout",
     "output_type": "stream",
     "text": [
      "{'color': 'green', 'points': 5}\n",
      "{'color': 'yellow', 'points': 10}\n",
      "{'color': 'red', 'points': 15}\n"
     ]
    }
   ],
   "source": [
    "alien_0 = {'color':'green','points': 5}\n",
    "alien_1 = {'color':'yellow','points': 10}\n",
    "alien_2 = {'color':'red','points': 15}\n",
    "\n",
    "aliens = [alien_0,alien_1,alien_2]\n",
    "\n",
    "for alien in aliens:\n",
    "\tprint(alien)"
   ]
  },
  {
   "cell_type": "code",
   "execution_count": 16,
   "id": "17e9d2ae",
   "metadata": {},
   "outputs": [],
   "source": [
    "# making an empty list for storing aliens\n",
    "aliens = []"
   ]
  },
  {
   "cell_type": "code",
   "execution_count": 17,
   "id": "ea98ac7b",
   "metadata": {},
   "outputs": [],
   "source": [
    "#make 30 green aliens\n",
    "for alien_number in range(30):\n",
    "\tnew_alien = {'color': 'green', 'points': 5,'speed': 'slow'}\n",
    "\taliens.append(new_alien)"
   ]
  },
  {
   "cell_type": "code",
   "execution_count": 18,
   "id": "c7cb7e49",
   "metadata": {},
   "outputs": [],
   "source": [
    "for alien in aliens[:3]:\t\t#changes first 3 aliens\n",
    "\tif alien['color'] == 'green':\n",
    "\t\talien['color'] = 'yellow'\n",
    "\t\talien['speed'] = 'medium'\n",
    "\t\talien['points'] = 10"
   ]
  },
  {
   "cell_type": "code",
   "execution_count": 19,
   "id": "378a77c2",
   "metadata": {},
   "outputs": [
    {
     "name": "stdout",
     "output_type": "stream",
     "text": [
      "{'color': 'yellow', 'points': 10, 'speed': 'medium'}\n",
      "{'color': 'yellow', 'points': 10, 'speed': 'medium'}\n",
      "{'color': 'yellow', 'points': 10, 'speed': 'medium'}\n",
      "{'color': 'green', 'points': 5, 'speed': 'slow'}\n",
      "{'color': 'green', 'points': 5, 'speed': 'slow'}\n",
      "...\n"
     ]
    }
   ],
   "source": [
    "# show first 5 aliens\n",
    "for alien in aliens[:5]:\n",
    "\tprint(alien)\n",
    "print(\"...\")"
   ]
  },
  {
   "cell_type": "code",
   "execution_count": 20,
   "id": "4ce2a836",
   "metadata": {},
   "outputs": [
    {
     "name": "stdout",
     "output_type": "stream",
     "text": [
      "Total number of aliens: 30\n"
     ]
    }
   ],
   "source": [
    "#show how many aliens have been created\n",
    "print(f\"Total number of aliens: {len(aliens)}\")"
   ]
  },
  {
   "cell_type": "markdown",
   "id": "2520a908",
   "metadata": {},
   "source": [
    "# list in a dictionary"
   ]
  },
  {
   "cell_type": "code",
   "execution_count": 21,
   "id": "27728c33",
   "metadata": {},
   "outputs": [
    {
     "name": "stdout",
     "output_type": "stream",
     "text": [
      "You ordered a thick - crust pizza with the following toppings:\n"
     ]
    }
   ],
   "source": [
    "pizza = {\n",
    "\t'crust': 'thick',\n",
    "\t'toppings': ['mushrooms', 'extra cheese'],\n",
    "    }\n",
    "print(f\"You ordered a {pizza['crust']} - crust pizza \"\n",
    "\t\t\"with the following toppings:\")"
   ]
  },
  {
   "cell_type": "code",
   "execution_count": 22,
   "id": "c92f15b1",
   "metadata": {},
   "outputs": [
    {
     "name": "stdout",
     "output_type": "stream",
     "text": [
      "\tmushrooms\n",
      "\textra cheese\n"
     ]
    }
   ],
   "source": [
    "for topping in pizza['toppings']:\n",
    "\tprint(f\"\\t{topping}\")"
   ]
  },
  {
   "cell_type": "markdown",
   "id": "3e5c2f18",
   "metadata": {},
   "source": [
    "## dictionary in a dictionary"
   ]
  },
  {
   "cell_type": "code",
   "execution_count": 24,
   "id": "ef871dc8",
   "metadata": {},
   "outputs": [],
   "source": [
    "users = {\n",
    "\t'aenstien':{\n",
    "\t\t'first': 'albert',\n",
    "\t\t'last': 'einstein',\n",
    "\t\t'location': 'princeton',\n",
    "\t\t},\n",
    "\t'mcurie':{\n",
    "\t\t'first': 'marie',\n",
    "\t\t'last': 'curie',\n",
    "\t\t'location': 'paris',\n",
    "\t\t},\n",
    "}"
   ]
  },
  {
   "cell_type": "code",
   "execution_count": 25,
   "id": "9418b699",
   "metadata": {},
   "outputs": [
    {
     "name": "stdout",
     "output_type": "stream",
     "text": [
      "\n",
      "Username: aenstien\n",
      "\tFull name: Albert Einstein\n",
      "\tLocation: Princeton\n",
      "\n",
      "Username: mcurie\n",
      "\tFull name: Marie Curie\n",
      "\tLocation: Paris\n"
     ]
    }
   ],
   "source": [
    "for username, user_info in users.items():\n",
    "\tprint(f\"\\nUsername: {username}\")\n",
    "\tfull_name = f\"{user_info['first']} {user_info['last']}\"\n",
    "\tlocation = user_info['location']\n",
    "\n",
    "\tprint(f\"\\tFull name: {full_name.title()}\")\n",
    "\tprint(f\"\\tLocation: {location.title()}\")"
   ]
  },
  {
   "cell_type": "code",
   "execution_count": null,
   "id": "10f5ad6b",
   "metadata": {},
   "outputs": [],
   "source": []
  }
 ],
 "metadata": {
  "kernelspec": {
   "display_name": "Python 3 (ipykernel)",
   "language": "python",
   "name": "python3"
  },
  "language_info": {
   "codemirror_mode": {
    "name": "ipython",
    "version": 3
   },
   "file_extension": ".py",
   "mimetype": "text/x-python",
   "name": "python",
   "nbconvert_exporter": "python",
   "pygments_lexer": "ipython3",
   "version": "3.9.12"
  }
 },
 "nbformat": 4,
 "nbformat_minor": 5
}
