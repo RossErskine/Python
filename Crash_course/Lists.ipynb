{
 "cells": [
  {
   "cell_type": "markdown",
   "id": "55edfaa2",
   "metadata": {},
   "source": [
    "# Python Lists\n",
    "### Using a list"
   ]
  },
  {
   "cell_type": "code",
   "execution_count": 1,
   "id": "e0a51b9a",
   "metadata": {},
   "outputs": [
    {
     "name": "stdout",
     "output_type": "stream",
     "text": [
      "['zoe', 'gerald', 'leo', 'henry', 'leonard']\n"
     ]
    }
   ],
   "source": [
    "names = [\"zoe\",\"gerald\",\"leo\",\"henry\"]\n",
    "names.append(\"leonard\") #adds to the back\n",
    "print(names)"
   ]
  },
  {
   "cell_type": "code",
   "execution_count": 3,
   "id": "fa125e93",
   "metadata": {},
   "outputs": [
    {
     "name": "stdout",
     "output_type": "stream",
     "text": [
      "['zoe', 'gerald', 'mike', 'mike', 'leo', 'henry', 'leonard']\n"
     ]
    }
   ],
   "source": [
    "names.insert(2,\"mike\") #adds at position number 2\n",
    "print(names)"
   ]
  },
  {
   "cell_type": "code",
   "execution_count": 4,
   "id": "4a4a8197",
   "metadata": {},
   "outputs": [
    {
     "name": "stdout",
     "output_type": "stream",
     "text": [
      "['zoe', 'gerald', 'mike', 'mike', 'leo', 'leonard']\n"
     ]
    }
   ],
   "source": [
    "del names[5] \t\t\t#deletes position number 5\n",
    "print(names)"
   ]
  },
  {
   "cell_type": "code",
   "execution_count": 5,
   "id": "77ac7e2b",
   "metadata": {},
   "outputs": [
    {
     "name": "stdout",
     "output_type": "stream",
     "text": [
      "['zoe', 'gerald', 'mike', 'mike', 'leo']\n"
     ]
    }
   ],
   "source": [
    "popped_name = names.pop() #pop off the stack\n",
    "print(names)"
   ]
  },
  {
   "cell_type": "code",
   "execution_count": 6,
   "id": "9816e8b1",
   "metadata": {},
   "outputs": [
    {
     "name": "stdout",
     "output_type": "stream",
     "text": [
      "leonard\n"
     ]
    }
   ],
   "source": [
    "print(popped_name)"
   ]
  },
  {
   "cell_type": "code",
   "execution_count": 7,
   "id": "c7499959",
   "metadata": {},
   "outputs": [
    {
     "name": "stdout",
     "output_type": "stream",
     "text": [
      "['gerald', 'mike', 'mike', 'leo']\n"
     ]
    }
   ],
   "source": [
    "first_name = names.pop(0) #pops off position number 0\n",
    "print(names)"
   ]
  },
  {
   "cell_type": "code",
   "execution_count": 8,
   "id": "c0ef2ad3",
   "metadata": {},
   "outputs": [
    {
     "name": "stdout",
     "output_type": "stream",
     "text": [
      "zoe\n"
     ]
    }
   ],
   "source": [
    "print(first_name)"
   ]
  },
  {
   "cell_type": "code",
   "execution_count": 9,
   "id": "fbeda539",
   "metadata": {},
   "outputs": [
    {
     "name": "stdout",
     "output_type": "stream",
     "text": [
      "['gerald', 'mike', 'mike']\n"
     ]
    }
   ],
   "source": [
    "names.remove(\"leo\")\t\t#removes itme'leo' from list(only removes one occurence)\n",
    "print(names)"
   ]
  },
  {
   "cell_type": "code",
   "execution_count": 10,
   "id": "c5df0b2b",
   "metadata": {},
   "outputs": [
    {
     "name": "stdout",
     "output_type": "stream",
     "text": [
      "['mike', 'mike']\n"
     ]
    }
   ],
   "source": [
    "cannot_dance = \"gerald\"\n",
    "names.remove(cannot_dance)\t#removes variable cannot_dance\n",
    "print(names)"
   ]
  },
  {
   "cell_type": "code",
   "execution_count": 11,
   "id": "60993069",
   "metadata": {},
   "outputs": [
    {
     "name": "stdout",
     "output_type": "stream",
     "text": [
      "Gerald can not dance!\n"
     ]
    }
   ],
   "source": [
    "print(f\"{cannot_dance.title()} can not dance!\") #uses removed item\n"
   ]
  },
  {
   "cell_type": "markdown",
   "id": "e8b91390",
   "metadata": {},
   "source": [
    "# Organising a list "
   ]
  },
  {
   "cell_type": "code",
   "execution_count": 12,
   "id": "3505935f",
   "metadata": {},
   "outputs": [
    {
     "name": "stdout",
     "output_type": "stream",
     "text": [
      "['zebra', 'giraffe', 'monkey', 'lion', 'hippo', 'leopard']\n"
     ]
    }
   ],
   "source": [
    "animals = [\"zebra\",\"giraffe\",\"monkey\",\"lion\",\"hippo\",\"leopard\"]\n",
    "print(animals)"
   ]
  },
  {
   "cell_type": "code",
   "execution_count": 13,
   "id": "1235ba16",
   "metadata": {},
   "outputs": [
    {
     "name": "stdout",
     "output_type": "stream",
     "text": [
      "['leopard', 'hippo', 'lion', 'monkey', 'giraffe', 'zebra']\n"
     ]
    }
   ],
   "source": [
    "animals.reverse()\t\t#reverses order of list\n",
    "print(animals)"
   ]
  },
  {
   "cell_type": "code",
   "execution_count": 14,
   "id": "793d3361",
   "metadata": {},
   "outputs": [
    {
     "name": "stdout",
     "output_type": "stream",
     "text": [
      "['giraffe', 'hippo', 'leopard', 'lion', 'monkey', 'zebra']\n"
     ]
    }
   ],
   "source": [
    "animals.sort()\t\t\t#sorts animals alphabeticaly\n",
    "print(animals)"
   ]
  },
  {
   "cell_type": "code",
   "execution_count": 15,
   "id": "60c52f6b",
   "metadata": {},
   "outputs": [
    {
     "name": "stdout",
     "output_type": "stream",
     "text": [
      "['zebra', 'monkey', 'lion', 'leopard', 'hippo', 'giraffe']\n"
     ]
    }
   ],
   "source": [
    "animals.sort(reverse=True) #reverses the sort\n",
    "print(animals)"
   ]
  },
  {
   "cell_type": "code",
   "execution_count": 16,
   "id": "8e6e8ba7",
   "metadata": {},
   "outputs": [
    {
     "name": "stdout",
     "output_type": "stream",
     "text": [
      "['giraffe', 'hippo', 'leopard', 'lion', 'monkey', 'zebra']\n"
     ]
    }
   ],
   "source": [
    "print(sorted(animals))\t#prints temp sorted list"
   ]
  },
  {
   "cell_type": "code",
   "execution_count": 17,
   "id": "5f73232f",
   "metadata": {},
   "outputs": [
    {
     "name": "stdout",
     "output_type": "stream",
     "text": [
      "['zebra', 'monkey', 'lion', 'leopard', 'hippo', 'giraffe']\n"
     ]
    }
   ],
   "source": [
    "print(animals)"
   ]
  },
  {
   "cell_type": "code",
   "execution_count": 19,
   "id": "4d0dadbf",
   "metadata": {},
   "outputs": [
    {
     "name": "stdout",
     "output_type": "stream",
     "text": [
      "6\n"
     ]
    }
   ],
   "source": [
    "print(len(animals)) #prints size of animal list"
   ]
  },
  {
   "cell_type": "code",
   "execution_count": 20,
   "id": "d9f08c0e",
   "metadata": {},
   "outputs": [
    {
     "name": "stdout",
     "output_type": "stream",
     "text": [
      "giraffe\n"
     ]
    }
   ],
   "source": [
    "print(animals[-1])\t\t\t#prints last item in list"
   ]
  },
  {
   "cell_type": "markdown",
   "id": "d6402159",
   "metadata": {},
   "source": [
    "### working with lists "
   ]
  },
  {
   "cell_type": "code",
   "execution_count": 21,
   "id": "efc1c775",
   "metadata": {},
   "outputs": [],
   "source": [
    "animals2 = [\"zebra\",\"giraffe\",\"monkey\",\"lion\",\"hippo\",\"leopard\"]\t#correct formation"
   ]
  },
  {
   "cell_type": "code",
   "execution_count": 22,
   "id": "b61294eb",
   "metadata": {},
   "outputs": [
    {
     "name": "stdout",
     "output_type": "stream",
     "text": [
      "zebra\n",
      "monkey\n",
      "lion\n",
      "leopard\n",
      "hippo\n",
      "giraffe\n"
     ]
    }
   ],
   "source": [
    "for animal in animals:\n",
    "\tprint(animal)\t\t#prints \\n animal"
   ]
  },
  {
   "cell_type": "code",
   "execution_count": 23,
   "id": "0c452553",
   "metadata": {},
   "outputs": [
    {
     "name": "stdout",
     "output_type": "stream",
     "text": [
      "Zoe the Zebra\n",
      "Gerald the Giraffe\n",
      "Mike the Monkey\n",
      "Leo the Lion\n",
      "Henry the Hippo\n",
      "Leonard the Leopard\n"
     ]
    }
   ],
   "source": [
    "animal_names  = [\"zoe\",\"gerald\",\"mike\",\"leo\",\"henry\",\"leonard\"]\n",
    "for i in range(6):\t\t\t#loops 6 times \n",
    "\tprint(f\"{animal_names[i].title()} the {animals2[i].title()}\")"
   ]
  },
  {
   "cell_type": "code",
   "execution_count": 24,
   "id": "22563da0",
   "metadata": {},
   "outputs": [
    {
     "name": "stdout",
     "output_type": "stream",
     "text": [
      "1\n",
      "2\n",
      "3\n",
      "4\n"
     ]
    }
   ],
   "source": [
    "for value in range(1,5):\t#starts at 1 finishes at 4 because range is -1\n",
    "\tprint(value)"
   ]
  },
  {
   "cell_type": "code",
   "execution_count": 25,
   "id": "d01d1021",
   "metadata": {},
   "outputs": [
    {
     "name": "stdout",
     "output_type": "stream",
     "text": [
      "[1, 2, 3, 4, 5]\n"
     ]
    }
   ],
   "source": [
    "numbers = list(range(1,6))\t\t#makes a list of numbers\n",
    "print(numbers)"
   ]
  },
  {
   "cell_type": "code",
   "execution_count": 26,
   "id": "9ebba7f5",
   "metadata": {},
   "outputs": [
    {
     "name": "stdout",
     "output_type": "stream",
     "text": [
      "[2, 4, 6, 8, 10]\n"
     ]
    }
   ],
   "source": [
    "even_numbers = list(range(2,11,2))\t\t# makes a list (start,stop-1,skips(eg.2))\n",
    "print(even_numbers)"
   ]
  },
  {
   "cell_type": "code",
   "execution_count": 27,
   "id": "d3988190",
   "metadata": {},
   "outputs": [
    {
     "name": "stdout",
     "output_type": "stream",
     "text": [
      "[1, 4, 9, 16, 25, 36, 49, 64, 81, 100]\n"
     ]
    }
   ],
   "source": [
    "squares = []\n",
    "for value in range(1,11): #enters squared numbers into squares list\t\n",
    "\tsquares.append(value ** 2)\t\t# ** means exponents\n",
    "print(squares)"
   ]
  },
  {
   "cell_type": "code",
   "execution_count": 28,
   "id": "dec17258",
   "metadata": {},
   "outputs": [
    {
     "name": "stdout",
     "output_type": "stream",
     "text": [
      "[1, 4, 9, 16, 25, 36, 49, 64, 81, 100]\n"
     ]
    }
   ],
   "source": [
    "squares2 = [value**2 for value in range(1,11)]\t# creates squares using for loop INSIDE list\n",
    "print(squares2)\t"
   ]
  },
  {
   "cell_type": "code",
   "execution_count": 29,
   "id": "4b6c05f8",
   "metadata": {},
   "outputs": [
    {
     "name": "stdout",
     "output_type": "stream",
     "text": [
      "0\n"
     ]
    }
   ],
   "source": [
    "digits = [1,2,3,4,5,6,7,8,9,0]\n",
    "print(min(digits))\t#prints minimum digits"
   ]
  },
  {
   "cell_type": "code",
   "execution_count": 30,
   "id": "f57fea53",
   "metadata": {},
   "outputs": [
    {
     "name": "stdout",
     "output_type": "stream",
     "text": [
      "9\n"
     ]
    }
   ],
   "source": [
    "print(max(digits))\t#prints maximum digits"
   ]
  },
  {
   "cell_type": "code",
   "execution_count": 31,
   "id": "c3f6cdc0",
   "metadata": {},
   "outputs": [
    {
     "name": "stdout",
     "output_type": "stream",
     "text": [
      "45\n"
     ]
    }
   ],
   "source": [
    "print(sum(digits))\t#prints sum of digits"
   ]
  },
  {
   "cell_type": "code",
   "execution_count": 32,
   "id": "4a68d2e4",
   "metadata": {},
   "outputs": [
    {
     "name": "stdout",
     "output_type": "stream",
     "text": [
      "['zebra', 'giraffe', 'monkey']\n"
     ]
    }
   ],
   "source": [
    "print(animals2[0:3])\t#SLICING print 0-3 elements in list"
   ]
  },
  {
   "cell_type": "code",
   "execution_count": 33,
   "id": "8073ecc6",
   "metadata": {},
   "outputs": [
    {
     "name": "stdout",
     "output_type": "stream",
     "text": [
      "['lion', 'hippo', 'leopard']\n"
     ]
    }
   ],
   "source": [
    "print(animals2[3:6])\t#SLICING print 3-6 elements in list"
   ]
  },
  {
   "cell_type": "code",
   "execution_count": 34,
   "id": "ec395db9",
   "metadata": {},
   "outputs": [
    {
     "name": "stdout",
     "output_type": "stream",
     "text": [
      "['zebra', 'giraffe', 'monkey', 'lion', 'hippo', 'leopard']\n"
     ]
    }
   ],
   "source": [
    "animal_names2 = animal_names[:]\t\t#copies entire list\n",
    "print(animals2)"
   ]
  },
  {
   "cell_type": "code",
   "execution_count": 35,
   "id": "379abf57",
   "metadata": {},
   "outputs": [
    {
     "name": "stdout",
     "output_type": "stream",
     "text": [
      "['zoe', 'gerald', 'mike', 'leo', 'henry', 'leonard', 'turle']\n"
     ]
    }
   ],
   "source": [
    "animal_names3 = animal_names2 \t\t#points to animal_names2\n",
    "animal_names3.append(\"turle\")\n",
    "print(animal_names2)"
   ]
  },
  {
   "cell_type": "code",
   "execution_count": 36,
   "id": "f601d2ac",
   "metadata": {},
   "outputs": [
    {
     "name": "stdout",
     "output_type": "stream",
     "text": [
      "['zoe', 'gerald', 'mike', 'leo', 'henry', 'leonard', 'turle']\n"
     ]
    }
   ],
   "source": [
    "print(animal_names3)"
   ]
  },
  {
   "cell_type": "code",
   "execution_count": 37,
   "id": "400cdf3b",
   "metadata": {},
   "outputs": [
    {
     "name": "stdout",
     "output_type": "stream",
     "text": [
      "['zoe', 'gerald', 'mike', 'leo', 'henry', 'leonard']\n"
     ]
    }
   ],
   "source": [
    "print(animal_names)"
   ]
  },
  {
   "cell_type": "markdown",
   "id": "05212396",
   "metadata": {},
   "source": [
    "### tuples (tuples are constant lists)"
   ]
  },
  {
   "cell_type": "code",
   "execution_count": 38,
   "id": "f982e74b",
   "metadata": {},
   "outputs": [
    {
     "name": "stdout",
     "output_type": "stream",
     "text": [
      "200\n"
     ]
    }
   ],
   "source": [
    "dimensions = (200, 50)\n",
    "print(dimensions[0])"
   ]
  },
  {
   "cell_type": "code",
   "execution_count": 39,
   "id": "0740baad",
   "metadata": {},
   "outputs": [
    {
     "name": "stdout",
     "output_type": "stream",
     "text": [
      "50\n"
     ]
    }
   ],
   "source": [
    "print(dimensions[1])"
   ]
  },
  {
   "cell_type": "code",
   "execution_count": 40,
   "id": "10be6fcc",
   "metadata": {},
   "outputs": [
    {
     "name": "stdout",
     "output_type": "stream",
     "text": [
      "(250, 100)\n"
     ]
    }
   ],
   "source": [
    "#dimensions[0] = 250 #error cannot re-assign indevidual\n",
    "dimensions = (250,100)\t#can re-assign whol tuple\n",
    "print(dimensions)"
   ]
  },
  {
   "cell_type": "code",
   "execution_count": null,
   "id": "c90f43d7",
   "metadata": {},
   "outputs": [],
   "source": []
  }
 ],
 "metadata": {
  "kernelspec": {
   "display_name": "Python 3 (ipykernel)",
   "language": "python",
   "name": "python3"
  },
  "language_info": {
   "codemirror_mode": {
    "name": "ipython",
    "version": 3
   },
   "file_extension": ".py",
   "mimetype": "text/x-python",
   "name": "python",
   "nbconvert_exporter": "python",
   "pygments_lexer": "ipython3",
   "version": "3.9.12"
  }
 },
 "nbformat": 4,
 "nbformat_minor": 5
}
